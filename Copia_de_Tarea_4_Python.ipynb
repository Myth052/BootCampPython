{
  "nbformat": 4,
  "nbformat_minor": 0,
  "metadata": {
    "colab": {
      "provenance": []
    },
    "kernelspec": {
      "name": "python3",
      "display_name": "Python 3"
    },
    "language_info": {
      "name": "python"
    }
  },
  "cells": [
    {
      "cell_type": "markdown",
      "source": [
        "###INTRODUCCIÓN A LA PROGRAMACIÓN ORIENTADA A OBJETOS"
      ],
      "metadata": {
        "id": "VBrtaww3EMmd"
      }
    },
    {
      "cell_type": "markdown",
      "source": [
        "**Hola**\n",
        "\n",
        "Bienvenidos a una nueva semana del curso de **Python** desde cero con **ZerotoHero**, esta semana vamos aprender sobre la programación orientada a objetos **(OOP)**\n",
        "\n",
        "\n",
        "\n",
        "\n",
        "\n"
      ],
      "metadata": {
        "id": "AIRlkrUuBdin"
      }
    },
    {
      "cell_type": "markdown",
      "source": [
        "Una de las ventajas de Python es que nos permite trabajar con distintas metodologías de programación como por ejemplo la programación orientada a objetos.\n",
        "\n",
        "Veamos cuales son las metodologías de programación que hemos aprendido hasta ahora en este curso y como es que ellas se diferencian entre ellas."
      ],
      "metadata": {
        "id": "TG-t0i_kEKE5"
      }
    },
    {
      "cell_type": "markdown",
      "source": [
        "**Programación Lineal:** Es cuando desarrollamos todo el código sin emplear funciones. El código es una secuencia lineal de comando.\n",
        "\n",
        "\n",
        "**Programación Estructurada:** Es cuando planteamos funciones que agrupan actividades a desarrollar y luego dentro del programa llamamos a dichas funciones que pueden estar dentro del mismo archivo (módulo) o en una librería separada.\n",
        "\n",
        "**Programación Orientada a Objetos:** Es cuando planteamos clases y definimos objetos de las mismas (Este es el objetivo de los próximos conceptos, aprender la metodología de programación orientada a objetos y la sintaxis particular de Python para la POO)"
      ],
      "metadata": {
        "id": "XV5asxhmEIy5"
      }
    },
    {
      "cell_type": "markdown",
      "source": [
        "Veamos de manera intituiva cual es la diferencia entre hacer programación orientada a objetos contra programación estructurada.\n"
      ],
      "metadata": {
        "id": "7wXK7zk2E_fC"
      }
    },
    {
      "cell_type": "markdown",
      "source": [
        "**Programación Estructurada**\n",
        "\n",
        "¿Qué es? Es como seguir una receta de cocina paso a paso. Cada paso tiene instrucciones claras sobre qué hacer. Si necesitas repetir algo, como batir los huevos, podrías tener un pequeño recordatorio (una función) que te dice cómo hacerlo cada vez.\n",
        "\n",
        "Ejemplo: Imagina que estás organizando tu día. Tienes una lista: 1. Despertar. 2. Hacer ejercicio (esto podría ser como una función: 30 minutos de cardio). 3. Desayunar. Siempre haces las cosas en orden y si necesitas cambiar algo, modificas la lista.\n",
        "\n",
        "**Programación Orientada a Objetos (OOP)**\n",
        "\n",
        "¿Qué es? Es como tener una caja de herramientas donde cada herramienta tiene su propósito específico. Puedes usarlas de diferentes maneras para construir o reparar cosas. Cada herramienta (objeto) sabe cómo hacer su trabajo y puedes combinarlas para solucionar problemas más complejos.\n",
        "\n",
        "Ejemplo: Imagina que tu día es un conjunto de objetos: Alarma, RutinaDeEjercicio, Desayuno. Cada uno con sus acciones:\n",
        "\n",
        "Alarma: tiene acciones como establecer(), desactivar().\n",
        "RutinaDeEjercicio: podría tener correr(), levantarPesas().\n",
        "Desayuno: podría tener prepararCafé(), hacerTostadas().\n",
        "Puedes usar estos objetos de manera flexible. Por ejemplo, si algún día no quieres hacer ejercicio, simplemente no usas el objeto RutinaDeEjercicio.\n",
        "\n",
        "\n",
        "**¿Cuál usar?**\n",
        "Depende de lo que estés haciendo:\n",
        "\n",
        "Si tu tarea es directa y no muy complicada, seguir una receta (programación estructurada) puede ser más fácil.\n",
        "Si estás construyendo algo con muchas partes que necesitan trabajar juntas, tener una caja de herramientas (OOP) te da más flexibilidad y opciones."
      ],
      "metadata": {
        "id": "drWugtbaFMAs"
      }
    },
    {
      "cell_type": "markdown",
      "source": [
        "###Principales conceptos de la programación orientada a objetos\n",
        "\n"
      ],
      "metadata": {
        "id": "-zaHfcKnGBq7"
      }
    },
    {
      "cell_type": "markdown",
      "source": [
        "Al llegar a esta sección te recomiendo que vayas anotando en una libreta aquellos conceptos que te parezcan más importantes, para que puedas recordarlos y aprenderlos a detalle.\n",
        "\n",
        "\n"
      ],
      "metadata": {
        "id": "xAl-i3J4GF_D"
      }
    },
    {
      "cell_type": "markdown",
      "source": [
        "**Clase:**  Una clase es como una plantilla o un molde para hacer galletas. Esta plantilla define la forma y los detalles de las galletas que vas a hacer, pero aún no es una galleta real, solo te dice cómo deberían ser las galletas. En programación, una clase es una plantilla para crear objetos, donde cada objeto creado a partir de esa clase tiene características (atributos) y comportamientos (métodos) definidos por la clase.\n",
        "\n"
      ],
      "metadata": {
        "id": "-g2n7ZsOGxed"
      }
    },
    {
      "cell_type": "markdown",
      "source": [
        "Ejemplos:"
      ],
      "metadata": {
        "id": "d5LrjS1oHRst"
      }
    },
    {
      "cell_type": "code",
      "source": [
        "class Persona:\n",
        "    def __init__(self, nombre, edad):\n",
        "        self.nombre = nombre\n",
        "        self.edad = edad\n",
        "\n",
        "    def saludo(self):\n",
        "        return f\"Hola, mi nombre es {self.nombre} y tengo {self.edad} años.\"\n"
      ],
      "metadata": {
        "id": "-dT5-IZgEHzL"
      },
      "execution_count": null,
      "outputs": []
    },
    {
      "cell_type": "markdown",
      "source": [
        "En este codigo usamos la palabra reservada **class** esto le indica a Python que estamos declarando una **clase**, tal como haciamos con **def** cuando queriamos declarar una función.\n",
        "\n",
        "\n",
        "Este código en particular define una clase llamada Persona, la cual es una plantilla para crear objetos que representen a personas. Cada persona tendrá un nombre y una edad, y podrá realizar una acción: saludar.\n",
        "\n",
        "\n",
        "```\n",
        "class Persona:\n",
        "```\n",
        "\n",
        "El constructor __init__\n",
        "\n",
        "    def __init__(self, nombre, edad):\n",
        "        self.nombre = nombre\n",
        "        self.edad = edad\n",
        "\n",
        "\n",
        "\n",
        "`def __init__(self, nombre, edad):` Esta es una función especial llamada constructor. En Python, __init__ se usa para inicializar (es decir, especificar los valores iniciales de) los objetos creados a partir de la clase. Cuando creas un nuevo objeto Persona, Python llama automáticamente a este método __init__.\n",
        "\n",
        "**self:** Este es el primer parámetro de cualquier método definido dentro de una clase, y se usa para referirse al objeto mismo. Piensa en self como una forma de decir \"este objeto en particular\" o \"esta instancia\".\n",
        "\n",
        "nombre, edad: Son los parámetros que pasas al constructor al crear un objeto Persona. Estos valores se usan para inicializar los atributos del objeto.\n",
        "\n",
        "`self.nombre = nombre y self.edad = edad:` Aquí es donde los valores de los parámetros nombre y edad se asignan a los atributos nombre y edad del objeto. Esto significa que cada objeto Persona tendrá su propio nombre y edad específicos.\n"
      ],
      "metadata": {
        "id": "k7TiyD3AHT9w"
      }
    },
    {
      "cell_type": "markdown",
      "source": [
        "**El Método saludo**\n",
        "\n",
        "\n",
        "    def saludo(self):\n",
        "        return f\"Hola, mi nombre es {self.nombre} y tengo {self.edad} años.\"\n",
        "\n",
        "\n",
        "`def saludo(self):` Este es un método de la clase Persona. Un método es una función que \"pertenece\" a un objeto, y saludo está diseñado para ser llamado por un objeto Persona.\n",
        "\n",
        "`return f\"Hola, mi nombre es {self.nombre} y tengo {self.edad} años.\":`\n",
        "\n",
        " Este método devuelve una cadena de texto (string) que es un saludo personalizado. Cuando llamas a este método desde un objeto Persona, sustituye self.nombre y self.edad con los valores del objeto específico que llamó al método."
      ],
      "metadata": {
        "id": "Ts_uHX3LIwLS"
      }
    },
    {
      "cell_type": "markdown",
      "source": [
        "**¿Cómo podemos mandar a llamar esta clase?**"
      ],
      "metadata": {
        "id": "gqWJlJugJIXz"
      }
    },
    {
      "cell_type": "code",
      "source": [
        "persona1 = Persona(\"Juan\", 25)\n",
        "print(persona1.saludo())\n"
      ],
      "metadata": {
        "colab": {
          "base_uri": "https://localhost:8080/"
        },
        "id": "DjXkWMv3JQ3v",
        "outputId": "07e885e0-7430-4161-a7e9-131f2e5c9609"
      },
      "execution_count": null,
      "outputs": [
        {
          "output_type": "stream",
          "name": "stdout",
          "text": [
            "Hola, mi nombre es Juan y tengo 25 años.\n"
          ]
        }
      ]
    },
    {
      "cell_type": "markdown",
      "source": [
        "¿Cómo ejercicio crea una clase persona la cuál tenga tu nombre y tu edad?\n",
        "\n",
        "Y haz que salude, igual puedes modificar la clase persona1 para que tenga nuevos métodos y atributos por ejemplo una frase personalizada."
      ],
      "metadata": {
        "id": "DTdg_66EJVHR"
      }
    },
    {
      "cell_type": "code",
      "source": [
        "persona1 = Persona(\"Benito\", 25)\n",
        "print(persona1.saludo())\n"
      ],
      "metadata": {
        "id": "-kB57-wnJcsV"
      },
      "execution_count": null,
      "outputs": []
    },
    {
      "cell_type": "markdown",
      "source": [
        "Ejemplo 2:\n"
      ],
      "metadata": {
        "id": "GfqI-V6TJpWm"
      }
    },
    {
      "cell_type": "code",
      "source": [
        "class Libro:\n",
        "    def __init__(self, titulo, autor, paginas):  ### Titulo, autor y paginas son los atributos de tu objeto\n",
        "        self.titulo = titulo\n",
        "        self.autor = autor\n",
        "        self.paginas = paginas\n",
        "\n",
        "    def informacion(self): #La función información, se la llama un método de tu objeto.\n",
        "        return f\"'{self.titulo}' por {self.autor}, {self.paginas} páginas\"\n"
      ],
      "metadata": {
        "id": "ngJ2_W2xICpl"
      },
      "execution_count": null,
      "outputs": []
    },
    {
      "cell_type": "markdown",
      "source": [
        "Usando esta clase crea un objeto que se llame mi_libro(), y manda a llamar a la información de este libro."
      ],
      "metadata": {
        "id": "LB0pQJGqGFio"
      }
    },
    {
      "cell_type": "markdown",
      "source": [
        "**Un poco más sobre el método __init__**"
      ],
      "metadata": {
        "id": "5ERDMkFwKrw3"
      }
    },
    {
      "cell_type": "markdown",
      "source": [
        "El método **\\_\\_init_\\_** es una función especial en las clases de Python, usada para inicializar los atributos de un objeto recién creado. Se ejecuta automáticamente cuando se crea un objeto, lo que hace que sea imposible olvidarse de inicializar los atributos del objeto"
      ],
      "metadata": {
        "id": "qXR_Y-YeK1-T"
      }
    },
    {
      "cell_type": "markdown",
      "source": [
        "**Se ejecuta automáticamente:** Al crear un objeto, Python llama a **\\_\\_init_\\_**.\n",
        "\n",
        "**Inicialización de atributos:** Se usa para establecer los valores iniciales de los atributos del objeto.\n",
        "\n",
        "**No retorna datos:** A diferencia de otros métodos, **\\_\\_init_\\_** no puede retornar un valor.\n",
        "\n",
        "**Recibe parámetros:** Los argumentos pasados al crear un objeto se entregan a **\\_\\_init_\\_**.\n",
        "\n",
        "**Es opcional:** Aunque no es necesario definir **\\_\\_init_\\_**, es muy común hacerlo para configurar objetos al momento de su creación."
      ],
      "metadata": {
        "id": "nSdp1DjkLHjy"
      }
    },
    {
      "cell_type": "code",
      "source": [
        "class Coche:\n",
        "    def __init__(self, marca, modelo):\n",
        "        self.marca = marca\n",
        "        self.modelo = modelo\n",
        "\n",
        "    def mostrar_info(self):\n",
        "        return f\"Coche: {self.marca} {self.modelo}\"\n",
        "\n",
        "# Creando un objeto Coche\n",
        "mi_coche = Coche(\"Toyota\", \"Corolla\")\n",
        "\n",
        "# Mostrando la información del coche\n",
        "print(mi_coche.mostrar_info())\n"
      ],
      "metadata": {
        "id": "8VAefv_sKwFh"
      },
      "execution_count": null,
      "outputs": []
    },
    {
      "cell_type": "markdown",
      "source": [
        "**class Coche:** Define una clase llamada Coche.\n",
        "\n",
        "def __init__(self, marca, modelo): Es el constructor de la clase. Se llama automáticamente cuando se crea un nuevo objeto Coche.\n",
        "\n",
        "**self** hace referencia al objeto específico que está siendo creado.\n",
        "\n",
        "**marca y modelo** son parámetros que se pasan al constructor para establecer las propiedades del objeto.\n",
        "\n",
        "**self.marca = marca** y **self.modelo** = modelo asignan los valores recibidos a los atributos del objeto.\n",
        "\n",
        "**def mostrar_info(self):** Es un método que, al llamarse, devuelve una cadena de texto con la marca y el modelo del coche.\n",
        "\n",
        "`mi_coche = Coche(\"Toyota\", \"Corolla\") `Crea un objeto mi_coche de la clase Coche, inicializando su marca como \"Toyota\" y su modelo como \"Corolla\".\n",
        "\n",
        "`print(mi_coche.mostrar_info())` Imprime la información del mi_coche. La salida será \"Coche: Toyota Corolla"
      ],
      "metadata": {
        "id": "lZAKVr-rLoJE"
      }
    },
    {
      "cell_type": "markdown",
      "source": [
        "### Llamando funciones (métodos) de la clase dentro de otra función(método) de la clase"
      ],
      "metadata": {
        "id": "_k_LFul7MFja"
      }
    },
    {
      "cell_type": "markdown",
      "source": [
        "  Cuando tienes un objeto de una clase y quieres usar uno de sus métodos, utilizas la sintaxis **\\[nombre del objeto]\\.\\[nombre del método]\\()** para llamarlo. Por ejemplo, si creas un objeto empleado1 de una clase Empleado, y quieres llamar al método paga_impuestos, escribirías **empleado1.paga_impuestos().**\n",
        "\n",
        "Para llamar a un método desde otro método dentro de la misma clase, se utiliza la palabra clave self seguida de un punto y el nombre del método. La sintaxis es **self.\\[nombre del método]()**. Esto es porque **self** representa al objeto actual y permite acceder a sus atributos y métodos."
      ],
      "metadata": {
        "id": "RDDrTmCdQTvl"
      }
    },
    {
      "cell_type": "code",
      "execution_count": null,
      "metadata": {
        "id": "xV-nEFtHAY4N"
      },
      "outputs": [],
      "source": [
        "class Empleado:\n",
        "    def __init__(self, nombre, salario):\n",
        "        self.nombre = nombre\n",
        "        self.salario = salario\n",
        "\n",
        "    def paga_impuestos(self):\n",
        "        if self.salario > 3000:\n",
        "            print(f\"{self.nombre} debe pagar impuestos.\")\n",
        "        else:\n",
        "            print(f\"{self.nombre} no debe pagar impuestos.\")\n",
        "\n",
        "    def revisar_salario(self):\n",
        "        print(f\"Revisando el salario de {self.nombre}...\")\n",
        "        self.paga_impuestos()  # Llamada a otro método dentro de la misma clase\n",
        "\n",
        "# Creando un objeto de la clase Empleado\n",
        "empleado1 = Empleado(\"Diego\", 2000)\n",
        "\n",
        "# Llamada a un método desde fuera de la clase\n",
        "empleado1.revisar_salario()\n"
      ]
    },
    {
      "cell_type": "markdown",
      "source": [
        "class Empleado: Define una nueva clase llamada Empleado.\n",
        "\n",
        "`def __init__(self, nombre, salario):` Este es el método inicializador de la clase, que establece los atributos nombre y salario para un nuevo objeto Empleado.\n",
        "\n",
        "`def paga_impuestos(self):` Es un método que determina si el empleado debe pagar impuestos basado en su salario.\n",
        "\n",
        "`def revisar_salario(self):` Este método imprime un mensaje y luego llama al método paga_impuestos para el mismo objeto usando self.paga_impuestos(). Aquí, self se refiere al objeto en el que se está ejecutando revisar_salario.\n",
        "\n",
        "`empleado1.revisar_salario()` Aquí, el método revisar_salario es llamado desde fuera de la clase. Este método, a su vez, llamará al método paga_impuestos desde dentro de la clase utilizando self."
      ],
      "metadata": {
        "id": "oi4AckUTTi9i"
      }
    },
    {
      "cell_type": "markdown",
      "source": [
        "###OTROS TEMAS IMPORTANTES\n",
        "\n",
        "**Colaboración de Clases**\n",
        "\n",
        "La colaboración de clases ocurre cuando una clase utiliza objetos de otra clase como parte de su funcionalidad."
      ],
      "metadata": {
        "id": "jU3jLxv7UsAo"
      }
    },
    {
      "cell_type": "code",
      "source": [
        "class Motor:\n",
        "    def arrancar(self):\n",
        "        return \"El motor está funcionando.\"\n",
        "\n",
        "class Coche:\n",
        "    def __init__(self):\n",
        "        self.motor = Motor()  # El Coche colabora con la clase Motor. Vemos que a self.motor le asignamos Motor el cual es un objeto de la clase Motor() nota como las clases colaboran entre ellas\n",
        "\n",
        "    def iniciar(self):\n",
        "        return self.motor.arrancar()  # Llama al método del Motor.\n",
        "\n",
        "mi_coche = Coche()\n",
        "print(mi_coche.iniciar())  # Salida: El motor está funcionando.\n"
      ],
      "metadata": {
        "id": "wfQo-3RXBccA"
      },
      "execution_count": null,
      "outputs": []
    },
    {
      "cell_type": "markdown",
      "source": [
        "### **Herencia**\n",
        "\n",
        "La herencia permite que una clase (subclase) herede atributos y métodos de otra clase (superclase), facilitando la reutilización de código."
      ],
      "metadata": {
        "id": "eGDCe8uZVMTM"
      }
    },
    {
      "cell_type": "markdown",
      "source": [
        "**Caracteristicas clave**\n",
        "\n",
        "**Reutilización de Código:**\n",
        "\n",
        " La subclase hereda el código de la superclase, por lo que puedes reutilizar funcionalidades comunes en lugar de escribirlas de nuevo.\n",
        "\n",
        "**Extensibilidad:**\n",
        "\n",
        " Puedes agregar nuevas características a la subclase sin modificar la superclase.\n",
        "\n",
        "**Jerarquía de Clases:**\n",
        "\n",
        " Permite construir una jerarquía de clases y subclases, reflejando relaciones del mundo real.\n",
        "\n",
        "**Sobrescritura de Métodos:**\n",
        "\n",
        " La subclase puede sobrescribir los métodos heredados para cambiar o extender el comportamiento de la superclase."
      ],
      "metadata": {
        "id": "lOr8SCaUWDOM"
      }
    },
    {
      "cell_type": "code",
      "source": [
        "class Animal:\n",
        "    def __init__(self, nombre):\n",
        "        self.nombre = nombre\n",
        "\n",
        "    def emitir_sonido(self):\n",
        "        return \"Este animal hace un sonido.\"\n",
        "\n",
        "class Perro(Animal):  # La clase Perro hereda de la clase Animal\n",
        "    def emitir_sonido(self):  # Sobrescribe el método emitir_sonido\n",
        "        return f\"{self.nombre} ladra.\"\n",
        "\n",
        "class Gato(Animal):  # La clase Gato hereda de la clase Animal\n",
        "    def emitir_sonido(self):  # Sobrescribe el método emitir_sonido\n",
        "        return f\"{self.nombre} maúlla.\"\n",
        "\n",
        "# Creación de instancias de Perro y Gato\n",
        "mi_perro = Perro(\"Rex\")\n",
        "mi_gato = Gato(\"Felix\")\n",
        "\n",
        "# Llamada a los métodos de las instancias\n",
        "print(mi_perro.emitir_sonido())  # Salida: Rex ladra.\n",
        "print(mi_gato.emitir_sonido())   # Salida: Felix maúlla.\n",
        "\n"
      ],
      "metadata": {
        "colab": {
          "base_uri": "https://localhost:8080/"
        },
        "id": "jT-jATMbVsN1",
        "outputId": "4d88e06e-8b1a-4462-ec76-334743a4fc13"
      },
      "execution_count": null,
      "outputs": [
        {
          "output_type": "stream",
          "name": "stdout",
          "text": [
            "Rex ladra.\n",
            "Felix maúlla.\n"
          ]
        }
      ]
    },
    {
      "cell_type": "markdown",
      "source": [
        "**Clase Base Animal:** Define una clase base con un constructor que asigna un nombre a cada Animal y un método emitir_sonido que es genérico para todos los animales.\n",
        "\n",
        "**Clase Perro** que Hereda de Animal: La clase Perro extiende la clase Animal. Aunque hereda el atributo nombre, sobrescribe el método emitir_sonido para reflejar el sonido específico que hace un perro, en este caso, ladrar.\n",
        "\n",
        "**Clase Gato que Hereda de Animal:** Similar a Perro, Gato es otra subclase de Animal que también sobrescribe el método emitir_sonido para representar el maullido de un gato."
      ],
      "metadata": {
        "id": "BYdHx133WueU"
      }
    },
    {
      "cell_type": "markdown",
      "source": [
        "### **Variables de clase**\n",
        "\n",
        "Las variables de clase son variables compartidas por todas las instancias de una clase. Se definen dentro de la clase pero fuera de cualquier método."
      ],
      "metadata": {
        "id": "Yh6YhQjIW0YS"
      }
    },
    {
      "cell_type": "code",
      "source": [
        "class Estudiante:\n",
        "    escuela = \"MiEscuela\"  # Variable de clase compartida por todas las instancias\n",
        "\n",
        "    def __init__(self, nombre):\n",
        "        self.nombre = nombre  # Variable de instancia única para cada estudiante\n",
        "\n",
        "estudiante1 = Estudiante(\"Ana\")\n",
        "estudiante2 = Estudiante(\"Luis\")\n",
        "print(estudiante1.escuela)  # Salida: MiEscuela\n",
        "print(estudiante2.escuela)  # Salida: MiEscuela\n"
      ],
      "metadata": {
        "colab": {
          "base_uri": "https://localhost:8080/"
        },
        "id": "YYoIOR1TW6zr",
        "outputId": "3999ca7a-7890-44a0-abd1-9c7176428126"
      },
      "execution_count": null,
      "outputs": [
        {
          "output_type": "stream",
          "name": "stdout",
          "text": [
            "MiEscuela\n",
            "MiEscuela\n"
          ]
        }
      ]
    },
    {
      "cell_type": "markdown",
      "source": [
        "## Ejercicios:"
      ],
      "metadata": {
        "id": "WobeFiV9Y22-"
      }
    },
    {
      "cell_type": "markdown",
      "source": [
        "###Ejercicio 1:\n",
        "\n",
        "  Implementar la clase Operaciones. Se deben cargar dos valores enteros por teclado en el método **\\_\\_init_\\_**, calcular su suma, resta, multiplicación y división, cada una en un método, imprimir dichos resultados."
      ],
      "metadata": {
        "id": "LbDy2AGVMOUs"
      }
    },
    {
      "cell_type": "code",
      "source": [
        "class Operaciones:\n",
        "  def __init__(self,num1,num2):\n",
        "    self.num1=num1\n",
        "    self.num2=num2\n",
        "\n",
        "  def sumar(self):\n",
        "\n",
        "    return f\"La suma es {self.num1+self.num2}\"\n",
        "\n",
        "  def restar(self):\n",
        "    return f\"La resta es {self.num1-self.num2}\"\n",
        "\n",
        "  def multiplcar(self):\n",
        "    return f\"La multiplicacion es {self.num1*self.num2}\"\n",
        "\n",
        "  def dividir(self):\n",
        "    return f\"La division es {self.num1/self.num2}\"\n",
        "\n",
        "resultado = Operaciones(10,5)\n",
        "print(resultado.sumar())\n",
        "print(resultado.restar())\n",
        "print(resultado.multiplcar())\n",
        "print(resultado.dividir())\n"
      ],
      "metadata": {
        "id": "eIcip9q7MhgJ",
        "colab": {
          "base_uri": "https://localhost:8080/"
        },
        "outputId": "d5939421-459a-4f67-82a9-8cb936a92dc0"
      },
      "execution_count": null,
      "outputs": [
        {
          "output_type": "stream",
          "name": "stdout",
          "text": [
            "La suma es 15\n",
            "La resta es 5\n",
            "La multiplicacion es 50\n",
            "La division es 2.0\n"
          ]
        }
      ]
    },
    {
      "cell_type": "markdown",
      "source": [
        "### Ejercicio 2:\n",
        "\n",
        "Crea una clase Autor que tenga los atributos nombre y nacionalidad, y una clase Libro que tenga los atributos titulo, año y autor. La clase Libro debe colaborar con la clase Autor para asociar un autor con un libro."
      ],
      "metadata": {
        "id": "LFGjfdM8XXha"
      }
    },
    {
      "cell_type": "code",
      "source": [
        "class Autor:\n",
        "    def __init__(self, nombre, nacionalidad):\n",
        "        self.nombre = nombre\n",
        "        self.nacionalidad = nacionalidad\n",
        "\n",
        "    def __str__(self):\n",
        "        return f\"{self.nombre} ({self.nacionalidad})\"\n",
        "\n",
        "class Libro:\n",
        "    def __init__(self, titulo, año, autor):\n",
        "        self.titulo = titulo\n",
        "        self.año = año\n",
        "        self.autor = autor  # Debe ser una instancia de la clase Autor\n",
        "\n",
        "    def __str__(self):\n",
        "        return f\"'{self.titulo}' ({self.año}), Autor: {self.autor}\"\n",
        "\n",
        "# Crear un autor\n",
        "autor1 = Autor(\"Gabriel García Márquez\", \"Colombiano\")\n",
        "\n",
        "# Crear un libro asociándolo con el autor\n",
        "libro1 = Libro(\"Cien años de soledad\", 1967, autor1)\n",
        "\n",
        "# Mostrar la información del libro\n",
        "print(libro1)\n",
        "\n"
      ],
      "metadata": {
        "id": "aHt3LR7wZCuV",
        "colab": {
          "base_uri": "https://localhost:8080/"
        },
        "outputId": "04bb5ebc-1e36-4ba8-da46-43208f66585b"
      },
      "execution_count": null,
      "outputs": [
        {
          "output_type": "stream",
          "name": "stdout",
          "text": [
            "'Cien años de soledad' (1967), Autor: Gabriel García Márquez (Colombiano)\n"
          ]
        }
      ]
    },
    {
      "cell_type": "markdown",
      "source": [
        "### Ejercicio 3:\n",
        "Crea una clase  llamada persona, persona debe tener nombre edad y genero, crea dos variables de clase una llamada Contador que sea una variable de clase que lleve la cuenta del número total de personas creadas. Mientras otra sera edad_promedio el cuál vaya actualizando el promedio de todas las personas creadas hasta el momento.\n"
      ],
      "metadata": {
        "id": "IxlhaVmjXZv9"
      }
    },
    {
      "cell_type": "code",
      "source": [
        "class Persona:\n",
        "    # Variables de clase\n",
        "    contador = 0\n",
        "    edad_promedio = 0\n",
        "\n",
        "    def __init__(self, nombre, edad, genero):\n",
        "        self.nombre = nombre\n",
        "        self.edad = edad\n",
        "        self.genero = genero\n",
        "\n",
        "        # Actualizar contador de personas\n",
        "        Persona.contador += 1\n",
        "\n",
        "        # Actualizar la edad promedio\n",
        "        Persona.edad_promedio = ((Persona.edad_promedio * (Persona.contador - 1)) + edad) / Persona.contador\n",
        "\n",
        "    def __str__(self):\n",
        "        return f\"Nombre: {self.nombre}, Edad: {self.edad}, Género: {self.genero}\"\n",
        "\n",
        "\n",
        "# Prueba del código\n",
        "p1 = Persona(\"Ana\", 25, \"Femenino\")\n",
        "p2 = Persona(\"Carlos\", 30, \"Masculino\")\n",
        "p3 = Persona(\"Elena\", 35, \"Femenino\")\n",
        "\n",
        "print(f\"Total de personas creadas: {Persona.contador}\")\n",
        "print(f\"Edad promedio: {Persona.edad_promedio:.2f}\")\n"
      ],
      "metadata": {
        "id": "_emznRcGZCIk",
        "colab": {
          "base_uri": "https://localhost:8080/"
        },
        "outputId": "b99b10a8-32db-4906-97ea-6b07a6c4b583"
      },
      "execution_count": null,
      "outputs": [
        {
          "output_type": "stream",
          "name": "stdout",
          "text": [
            "Total de personas creadas: 3\n",
            "Edad promedio: 30.00\n"
          ]
        }
      ]
    },
    {
      "cell_type": "markdown",
      "source": [
        "### Ejercicio 4:\n",
        "\n",
        "Plantear un programa que permita jugar a los dados. Las reglas de juego son:\n",
        "se tiran tres dados si los tres salen con el mismo valor mostrar un mensaje que \"gano\", sino \"perdió\".\n",
        "\n",
        "\n",
        "\n",
        "\n",
        "\n",
        "```\n",
        "Dado\n",
        "    atributos\n",
        "        valor\n",
        "    métodos\n",
        "        tirar\n",
        "        imprimir\n",
        "        retornar_valor\n",
        "\n",
        "JuegoDeDados\n",
        "    atributos\n",
        "        3 Dado (3 objetos de la clase Dado)\n",
        "    métodos\n",
        "        __init__\n",
        "        jugar\n",
        "```\n",
        "\n"
      ],
      "metadata": {
        "id": "gkouYHUlYeGN"
      }
    },
    {
      "cell_type": "code",
      "source": [
        "import random\n",
        "\n",
        "class Dado:\n",
        "    def __init__(self):\n",
        "        self.valor = 1  # Inicializamos el valor del dado\n",
        "\n",
        "    def tirar(self):\n",
        "        self.valor = random.randint(1, 6)  # Genera un número aleatorio entre 1 y 6\n",
        "\n",
        "    def imprimir(self):\n",
        "        print(f\"Dado: {self.valor}\")\n",
        "\n",
        "    def retornar_valor(self):\n",
        "        return self.valor\n",
        "\n",
        "\n",
        "class JuegoDeDados:\n",
        "    def __init__(self):\n",
        "        # Se crean tres objetos de la clase Dado\n",
        "        self.dado1 = Dado()\n",
        "        self.dado2 = Dado()\n",
        "        self.dado3 = Dado()\n",
        "\n",
        "    def jugar(self):\n",
        "        # Tiramos los tres dados\n",
        "        self.dado1.tirar()\n",
        "        self.dado2.tirar()\n",
        "        self.dado3.tirar()\n",
        "\n",
        "        # Imprimimos los valores obtenidos\n",
        "        self.dado1.imprimir()\n",
        "        self.dado2.imprimir()\n",
        "        self.dado3.imprimir()\n",
        "\n",
        "        # Verificamos si los tres valores son iguales\n",
        "        if (self.dado1.retornar_valor() == self.dado2.retornar_valor() == self.dado3.retornar_valor()):\n",
        "            print(\"¡Ganó!\")\n",
        "        else:\n",
        "            print(\"Perdió\")\n",
        "\n",
        "\n",
        "# Prueba del juego\n",
        "juego = JuegoDeDados()\n",
        "juego.jugar()\n"
      ],
      "metadata": {
        "id": "shrFD6J8YpSL"
      },
      "execution_count": null,
      "outputs": []
    },
    {
      "cell_type": "markdown",
      "source": [
        "### Ejercicio Reto:\n",
        "\n",
        "Confeccionar una clase que administre una agenda personal. Se debe almacenar el nombre de la persona, teléfono y mail\n",
        "Debe mostrar un menú con las siguientes opciones:\n",
        "\n",
        "1- Carga de un contacto en la agenda.\n",
        "\n",
        "2- Listado completo de la agenda.\n",
        "\n",
        "3- Consulta ingresando el nombre de la persona.\n",
        "\n",
        "4- Modificación de su teléfono y mail.\n",
        "\n",
        "5- Finalizar programa."
      ],
      "metadata": {
        "id": "zORsXEpAT5x_"
      }
    },
    {
      "cell_type": "code",
      "source": [
        "class Agenda:\n",
        "    def __init__(self):\n",
        "        self.contactos = {}  # Diccionario para almacenar los contactos\n",
        "\n",
        "    def cargar_contacto(self):\n",
        "        nombre = input(\"Ingrese el nombre: \")\n",
        "        telefono = input(\"Ingrese el teléfono: \")\n",
        "        email = input(\"Ingrese el correo electrónico: \")\n",
        "        self.contactos[nombre] = {\"teléfono\": telefono, \"email\": email}\n",
        "        print(\"Contacto agregado con éxito.\\n\")\n",
        "\n",
        "    def listar_agenda(self):\n",
        "        if not self.contactos:\n",
        "            print(\"La agenda está vacía.\\n\")\n",
        "        else:\n",
        "            for nombre, info in self.contactos.items():\n",
        "                print(f\"Nombre: {nombre}, Teléfono: {info['teléfono']}, Email: {info['email']}\")\n",
        "            print()\n",
        "\n",
        "    def consultar_contacto(self):\n",
        "        nombre = input(\"Ingrese el nombre a buscar: \")\n",
        "        if nombre in self.contactos:\n",
        "            info = self.contactos[nombre]\n",
        "            print(f\"Teléfono: {info['teléfono']}, Email: {info['email']}\\n\")\n",
        "        else:\n",
        "            print(\"El contacto no existe.\\n\")\n",
        "\n",
        "    def modificar_contacto(self):\n",
        "        nombre = input(\"Ingrese el nombre del contacto a modificar: \")\n",
        "        if nombre in self.contactos:\n",
        "            telefono = input(\"Ingrese el nuevo teléfono: \")\n",
        "            email = input(\"Ingrese el nuevo correo electrónico: \")\n",
        "            self.contactos[nombre] = {\"teléfono\": telefono, \"email\": email}\n",
        "            print(\"Contacto actualizado.\\n\")\n",
        "        else:\n",
        "            print(\"El contacto no existe.\\n\")\n",
        "\n",
        "    def menu(self):\n",
        "        while True:\n",
        "            print(\"Menú:\")\n",
        "            print(\"1- Cargar contacto\")\n",
        "            print(\"2- Listar agenda\")\n",
        "            print(\"3- Consultar contacto\")\n",
        "            print(\"4- Modificar contacto\")\n",
        "            print(\"5- Salir\")\n",
        "\n",
        "            opcion = input(\"Seleccione una opción: \")\n",
        "            if opcion == \"1\":\n",
        "                self.cargar_contacto()\n",
        "            elif opcion == \"2\":\n",
        "                self.listar_agenda()\n",
        "            elif opcion == \"3\":\n",
        "                self.consultar_contacto()\n",
        "            elif opcion == \"4\":\n",
        "                self.modificar_contacto()\n",
        "            elif opcion == \"5\":\n",
        "                print(\"Saliendo del programa...\")\n",
        "                break\n",
        "            else:\n",
        "                print(\"Opción no válida, intente de nuevo.\\n\")\n",
        "\n",
        "\n",
        "# Crear una instancia de la agenda y ejecutar el menú\n",
        "agenda = Agenda()\n",
        "agenda.menu()\n"
      ],
      "metadata": {
        "id": "1vvR-w9aUAKZ"
      },
      "execution_count": null,
      "outputs": []
    }
  ]
}